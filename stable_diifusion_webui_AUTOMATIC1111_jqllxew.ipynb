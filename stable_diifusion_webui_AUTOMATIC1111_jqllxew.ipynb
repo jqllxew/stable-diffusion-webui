{
  "nbformat": 4,
  "nbformat_minor": 0,
  "metadata": {
    "colab": {
      "provenance": [],
      "toc_visible": true,
      "authorship_tag": "ABX9TyOT9lFZh8W9jbMCink8hnXo",
      "include_colab_link": true
    },
    "kernelspec": {
      "name": "python3",
      "display_name": "Python 3"
    },
    "language_info": {
      "name": "python"
    },
    "accelerator": "GPU",
    "gpuClass": "standard",
    "widgets": {
      "application/vnd.jupyter.widget-state+json": {
        "5b80aeda2c244cba95a2ef17b5a93f9d": {
          "model_module": "@jupyter-widgets/controls",
          "model_name": "ButtonModel",
          "model_module_version": "1.5.0",
          "state": {
            "_dom_classes": [],
            "_model_module": "@jupyter-widgets/controls",
            "_model_module_version": "1.5.0",
            "_model_name": "ButtonModel",
            "_view_count": null,
            "_view_module": "@jupyter-widgets/controls",
            "_view_module_version": "1.5.0",
            "_view_name": "ButtonView",
            "button_style": "success",
            "description": "✔ Done",
            "disabled": true,
            "icon": "",
            "layout": "IPY_MODEL_41d7cece4b494486a7a07c18722f868f",
            "style": "IPY_MODEL_33064c4d28284f57b1521eb47e734f7d",
            "tooltip": ""
          }
        },
        "41d7cece4b494486a7a07c18722f868f": {
          "model_module": "@jupyter-widgets/base",
          "model_name": "LayoutModel",
          "model_module_version": "1.2.0",
          "state": {
            "_model_module": "@jupyter-widgets/base",
            "_model_module_version": "1.2.0",
            "_model_name": "LayoutModel",
            "_view_count": null,
            "_view_module": "@jupyter-widgets/base",
            "_view_module_version": "1.2.0",
            "_view_name": "LayoutView",
            "align_content": null,
            "align_items": null,
            "align_self": null,
            "border": null,
            "bottom": null,
            "display": null,
            "flex": null,
            "flex_flow": null,
            "grid_area": null,
            "grid_auto_columns": null,
            "grid_auto_flow": null,
            "grid_auto_rows": null,
            "grid_column": null,
            "grid_gap": null,
            "grid_row": null,
            "grid_template_areas": null,
            "grid_template_columns": null,
            "grid_template_rows": null,
            "height": null,
            "justify_content": null,
            "justify_items": null,
            "left": null,
            "margin": null,
            "max_height": null,
            "max_width": null,
            "min_height": null,
            "min_width": "50px",
            "object_fit": null,
            "object_position": null,
            "order": null,
            "overflow": null,
            "overflow_x": null,
            "overflow_y": null,
            "padding": null,
            "right": null,
            "top": null,
            "visibility": null,
            "width": null
          }
        },
        "33064c4d28284f57b1521eb47e734f7d": {
          "model_module": "@jupyter-widgets/controls",
          "model_name": "ButtonStyleModel",
          "model_module_version": "1.5.0",
          "state": {
            "_model_module": "@jupyter-widgets/controls",
            "_model_module_version": "1.5.0",
            "_model_name": "ButtonStyleModel",
            "_view_count": null,
            "_view_module": "@jupyter-widgets/base",
            "_view_module_version": "1.2.0",
            "_view_name": "StyleView",
            "button_color": null,
            "font_weight": ""
          }
        },
        "8e8791581c33465cb49a4388fafe4357": {
          "model_module": "@jupyter-widgets/controls",
          "model_name": "ButtonModel",
          "model_module_version": "1.5.0",
          "state": {
            "_dom_classes": [],
            "_model_module": "@jupyter-widgets/controls",
            "_model_module_version": "1.5.0",
            "_model_name": "ButtonModel",
            "_view_count": null,
            "_view_module": "@jupyter-widgets/controls",
            "_view_module_version": "1.5.0",
            "_view_name": "ButtonView",
            "button_style": "success",
            "description": "✔ Done",
            "disabled": true,
            "icon": "",
            "layout": "IPY_MODEL_9b0b8b11d2984431a3b6b5e93880365d",
            "style": "IPY_MODEL_642758040cb443e1bac0797dd2bed348",
            "tooltip": ""
          }
        },
        "9b0b8b11d2984431a3b6b5e93880365d": {
          "model_module": "@jupyter-widgets/base",
          "model_name": "LayoutModel",
          "model_module_version": "1.2.0",
          "state": {
            "_model_module": "@jupyter-widgets/base",
            "_model_module_version": "1.2.0",
            "_model_name": "LayoutModel",
            "_view_count": null,
            "_view_module": "@jupyter-widgets/base",
            "_view_module_version": "1.2.0",
            "_view_name": "LayoutView",
            "align_content": null,
            "align_items": null,
            "align_self": null,
            "border": null,
            "bottom": null,
            "display": null,
            "flex": null,
            "flex_flow": null,
            "grid_area": null,
            "grid_auto_columns": null,
            "grid_auto_flow": null,
            "grid_auto_rows": null,
            "grid_column": null,
            "grid_gap": null,
            "grid_row": null,
            "grid_template_areas": null,
            "grid_template_columns": null,
            "grid_template_rows": null,
            "height": null,
            "justify_content": null,
            "justify_items": null,
            "left": null,
            "margin": null,
            "max_height": null,
            "max_width": null,
            "min_height": null,
            "min_width": "50px",
            "object_fit": null,
            "object_position": null,
            "order": null,
            "overflow": null,
            "overflow_x": null,
            "overflow_y": null,
            "padding": null,
            "right": null,
            "top": null,
            "visibility": null,
            "width": null
          }
        },
        "642758040cb443e1bac0797dd2bed348": {
          "model_module": "@jupyter-widgets/controls",
          "model_name": "ButtonStyleModel",
          "model_module_version": "1.5.0",
          "state": {
            "_model_module": "@jupyter-widgets/controls",
            "_model_module_version": "1.5.0",
            "_model_name": "ButtonStyleModel",
            "_view_count": null,
            "_view_module": "@jupyter-widgets/base",
            "_view_module_version": "1.2.0",
            "_view_name": "StyleView",
            "button_color": null,
            "font_weight": ""
          }
        },
        "d979394f825f4232a7dda83e15344781": {
          "model_module": "@jupyter-widgets/controls",
          "model_name": "ButtonModel",
          "model_module_version": "1.5.0",
          "state": {
            "_dom_classes": [],
            "_model_module": "@jupyter-widgets/controls",
            "_model_module_version": "1.5.0",
            "_model_name": "ButtonModel",
            "_view_count": null,
            "_view_module": "@jupyter-widgets/controls",
            "_view_module_version": "1.5.0",
            "_view_name": "ButtonView",
            "button_style": "success",
            "description": "✔ Done",
            "disabled": true,
            "icon": "",
            "layout": "IPY_MODEL_5c7b402684a249338f2f4ff9c4c338b5",
            "style": "IPY_MODEL_285664f49184426390b710ecd6fdceb0",
            "tooltip": ""
          }
        },
        "5c7b402684a249338f2f4ff9c4c338b5": {
          "model_module": "@jupyter-widgets/base",
          "model_name": "LayoutModel",
          "model_module_version": "1.2.0",
          "state": {
            "_model_module": "@jupyter-widgets/base",
            "_model_module_version": "1.2.0",
            "_model_name": "LayoutModel",
            "_view_count": null,
            "_view_module": "@jupyter-widgets/base",
            "_view_module_version": "1.2.0",
            "_view_name": "LayoutView",
            "align_content": null,
            "align_items": null,
            "align_self": null,
            "border": null,
            "bottom": null,
            "display": null,
            "flex": null,
            "flex_flow": null,
            "grid_area": null,
            "grid_auto_columns": null,
            "grid_auto_flow": null,
            "grid_auto_rows": null,
            "grid_column": null,
            "grid_gap": null,
            "grid_row": null,
            "grid_template_areas": null,
            "grid_template_columns": null,
            "grid_template_rows": null,
            "height": null,
            "justify_content": null,
            "justify_items": null,
            "left": null,
            "margin": null,
            "max_height": null,
            "max_width": null,
            "min_height": null,
            "min_width": "50px",
            "object_fit": null,
            "object_position": null,
            "order": null,
            "overflow": null,
            "overflow_x": null,
            "overflow_y": null,
            "padding": null,
            "right": null,
            "top": null,
            "visibility": null,
            "width": null
          }
        },
        "285664f49184426390b710ecd6fdceb0": {
          "model_module": "@jupyter-widgets/controls",
          "model_name": "ButtonStyleModel",
          "model_module_version": "1.5.0",
          "state": {
            "_model_module": "@jupyter-widgets/controls",
            "_model_module_version": "1.5.0",
            "_model_name": "ButtonStyleModel",
            "_view_count": null,
            "_view_module": "@jupyter-widgets/base",
            "_view_module_version": "1.2.0",
            "_view_name": "StyleView",
            "button_color": null,
            "font_weight": ""
          }
        },
        "a50182baa3674442aad36622a974618e": {
          "model_module": "@jupyter-widgets/controls",
          "model_name": "ButtonModel",
          "model_module_version": "1.5.0",
          "state": {
            "_dom_classes": [],
            "_model_module": "@jupyter-widgets/controls",
            "_model_module_version": "1.5.0",
            "_model_name": "ButtonModel",
            "_view_count": null,
            "_view_module": "@jupyter-widgets/controls",
            "_view_module_version": "1.5.0",
            "_view_name": "ButtonView",
            "button_style": "success",
            "description": "✔ Model downloaded, using the trained model.",
            "disabled": true,
            "icon": "",
            "layout": "IPY_MODEL_bdc14dcde0c74b1182e00d0ec0fc8f74",
            "style": "IPY_MODEL_c0bc93e9b54c43749bf93025d51c1bf6",
            "tooltip": ""
          }
        },
        "bdc14dcde0c74b1182e00d0ec0fc8f74": {
          "model_module": "@jupyter-widgets/base",
          "model_name": "LayoutModel",
          "model_module_version": "1.2.0",
          "state": {
            "_model_module": "@jupyter-widgets/base",
            "_model_module_version": "1.2.0",
            "_model_name": "LayoutModel",
            "_view_count": null,
            "_view_module": "@jupyter-widgets/base",
            "_view_module_version": "1.2.0",
            "_view_name": "LayoutView",
            "align_content": null,
            "align_items": null,
            "align_self": null,
            "border": null,
            "bottom": null,
            "display": null,
            "flex": null,
            "flex_flow": null,
            "grid_area": null,
            "grid_auto_columns": null,
            "grid_auto_flow": null,
            "grid_auto_rows": null,
            "grid_column": null,
            "grid_gap": null,
            "grid_row": null,
            "grid_template_areas": null,
            "grid_template_columns": null,
            "grid_template_rows": null,
            "height": null,
            "justify_content": null,
            "justify_items": null,
            "left": null,
            "margin": null,
            "max_height": null,
            "max_width": null,
            "min_height": null,
            "min_width": "350px",
            "object_fit": null,
            "object_position": null,
            "order": null,
            "overflow": null,
            "overflow_x": null,
            "overflow_y": null,
            "padding": null,
            "right": null,
            "top": null,
            "visibility": null,
            "width": null
          }
        },
        "c0bc93e9b54c43749bf93025d51c1bf6": {
          "model_module": "@jupyter-widgets/controls",
          "model_name": "ButtonStyleModel",
          "model_module_version": "1.5.0",
          "state": {
            "_model_module": "@jupyter-widgets/controls",
            "_model_module_version": "1.5.0",
            "_model_name": "ButtonStyleModel",
            "_view_count": null,
            "_view_module": "@jupyter-widgets/base",
            "_view_module_version": "1.2.0",
            "_view_name": "StyleView",
            "button_color": null,
            "font_weight": ""
          }
        }
      }
    }
  },
  "cells": [
    {
      "cell_type": "markdown",
      "metadata": {
        "id": "view-in-github",
        "colab_type": "text"
      },
      "source": [
        "<a href=\"https://colab.research.google.com/github/jqllxew/stable-diffusion-webui/blob/master/stable_diifusion_webui_AUTOMATIC1111_jqllxew.ipynb\" target=\"_parent\"><img src=\"https://colab.research.google.com/assets/colab-badge.svg\" alt=\"Open In Colab\"/></a>"
      ]
    },
    {
      "cell_type": "markdown",
      "source": [
        "### 初始化/init"
      ],
      "metadata": {
        "id": "oZ-HYT10T1fH"
      }
    },
    {
      "cell_type": "code",
      "source": [
        "from google.colab import drive\n",
        "import time\n",
        "import os\n",
        "\n",
        "drive.mount('/content/gdrive')\n",
        "if not os.path.exists(\"/content/gdrive/MyDrive/\"):\n",
        "  os.mkdir(\"/content/gdrive/MyDrive/\",mode=0o755)"
      ],
      "metadata": {
        "colab": {
          "base_uri": "https://localhost:8080/"
        },
        "id": "bCckotXr-AfE",
        "outputId": "66633977-20eb-43af-eda6-b476b69c7dff"
      },
      "execution_count": null,
      "outputs": [
        {
          "output_type": "stream",
          "name": "stdout",
          "text": [
            "Drive already mounted at /content/gdrive; to attempt to forcibly remount, call drive.mount(\"/content/gdrive\", force_remount=True).\n"
          ]
        }
      ]
    },
    {
      "cell_type": "code",
      "source": [
        "from IPython.utils import capture\n",
        "from IPython.display import clear_output\n",
        "from subprocess import getoutput\n",
        "import ipywidgets as widgets\n",
        "repo_base_path = \"/content/gdrive/MyDrive/sd\"\n",
        "repo_git_url = \"https://github.com/jqllxew/stable-diffusion-webui.git\"\n",
        "project_path = repo_base_path+\"/stable-diffusion-webui\"\n",
        "\n",
        "def inf(msg, style, wdth): \n",
        "  inf = widgets.Button(description=msg, disabled=True, button_style=style, layout=widgets.Layout(min_width=wdth))\n",
        "  display(inf)\n",
        "with capture.capture_output() as cap:\n",
        "  if not os.path.exists(repo_base_path):\n",
        "    os.mkdir(repo_base_path,mode=0o755)\n",
        "  if not os.path.exists(project_path):\n",
        "    os.chdir(repo_base_path)\n",
        "    os.system(f\"git clone {repo_git_url}\")\n",
        "  os.chdir(project_path)\n",
        "  os.system(f\"git pull {repo_git_url}\")\n",
        "  !mkdir -p {project_path}/cache/huggingface\n",
        "  !ln -s {project_path}/cache/huggingface /root/.cache/\n",
        "print('\u001b[1;32m')\n",
        "clear_output()\n",
        "inf('\\u2714 Done','success', '50px')\n"
      ],
      "metadata": {
        "id": "TEYXaU0RNyO8",
        "colab": {
          "base_uri": "https://localhost:8080/",
          "height": 49,
          "referenced_widgets": [
            "5b80aeda2c244cba95a2ef17b5a93f9d",
            "41d7cece4b494486a7a07c18722f868f",
            "33064c4d28284f57b1521eb47e734f7d"
          ]
        },
        "outputId": "1a0a4d7a-5303-4bd9-8005-a29e28d2b4c5"
      },
      "execution_count": null,
      "outputs": [
        {
          "output_type": "display_data",
          "data": {
            "text/plain": [
              "Button(button_style='success', description='✔ Done', disabled=True, layout=Layout(min_width='50px'), style=But…"
            ],
            "application/vnd.jupyter.widget-view+json": {
              "version_major": 2,
              "version_minor": 0,
              "model_id": "5b80aeda2c244cba95a2ef17b5a93f9d"
            }
          },
          "metadata": {}
        }
      ]
    },
    {
      "cell_type": "markdown",
      "source": [
        "### 引用库/repositories"
      ],
      "metadata": {
        "id": "YVt2QIKvhGNk"
      }
    },
    {
      "cell_type": "code",
      "source": [
        "print('\u001b[1;32mInstalling requirements...')\n",
        "\n",
        "with capture.capture_output() as cap:\n",
        "  %cd /content/ \n",
        "  !wget -q -i https://raw.githubusercontent.com/TheLastBen/fast-stable-diffusion/main/Dependencies/A1111.txt\n",
        "  !dpkg -i *.deb\n",
        "  if not os.path.exists(f'{repo_base_path}/stablediffusion'):\n",
        "    !tar -C / --zstd -xf sd.tar.zst\n",
        "  !tar -C / --zstd -xf A1111_dep.tar.zst\n",
        "  !rm *.deb | rm *.zst | rm *.txt\n",
        "clear_output()\n",
        "inf('\\u2714 Done','success', '50px')"
      ],
      "metadata": {
        "colab": {
          "base_uri": "https://localhost:8080/",
          "height": 49,
          "referenced_widgets": [
            "8e8791581c33465cb49a4388fafe4357",
            "9b0b8b11d2984431a3b6b5e93880365d",
            "642758040cb443e1bac0797dd2bed348"
          ]
        },
        "id": "uOodL5yphKCL",
        "outputId": "2670d04e-99b3-4d14-86ac-2e901e9ee250"
      },
      "execution_count": null,
      "outputs": [
        {
          "output_type": "display_data",
          "data": {
            "text/plain": [
              "Button(button_style='success', description='✔ Done', disabled=True, layout=Layout(min_width='50px'), style=But…"
            ],
            "application/vnd.jupyter.widget-view+json": {
              "version_major": 2,
              "version_minor": 0,
              "model_id": "8e8791581c33465cb49a4388fafe4357"
            }
          },
          "metadata": {}
        }
      ]
    },
    {
      "cell_type": "markdown",
      "source": [
        "### 扩展/extensions"
      ],
      "metadata": {
        "id": "gFMknU69f1Nq"
      }
    },
    {
      "cell_type": "code",
      "source": [
        "extensions_path = project_path+\"/extensions\"\n",
        "print('\u001b[1;32mInstalling extensions...')\n",
        "with capture.capture_output() as cap:\n",
        "  if not os.path.exists(extensions_path):\n",
        "    os.mkdir(extensions_path,mode=0o755)\n",
        "  %cd {extensions_path}\n",
        "  if not os.path.exists(extensions_path+\"/stable-diffusion-webui-aesthetic-gradients\"): # 美学优化\n",
        "    !git clone https://github.com/AUTOMATIC1111/stable-diffusion-webui-aesthetic-gradients.git\n",
        "  if not os.path.exists(extensions_path+\"/stable-diffusion-webui-images-browser\"): # 图像浏览\n",
        "    !git clone https://github.com/yfszzx/stable-diffusion-webui-images-browser.git\n",
        "  # if not os.path.exists(extensions_path+\"/stable-diffusion-webui-nsfw-censor\"): # nsfw\n",
        "  #   !git clone https://github.com/jqllxew/stable-diffusion-webui-nsfw-censor.git\n",
        "  if not os.path.exists(extensions_path+\"/a1111-sd-webui-tagcomplete\"):\n",
        "    !git clone https://github.com/DominikDoom/a1111-sd-webui-tagcomplete.git\n",
        "  for sub_dir in os.listdir(extensions_path):\n",
        "    sub_dir_path = os.path.join(extensions_path, sub_dir)\n",
        "    if os.path.isdir(sub_dir_path):\n",
        "      os.chdir(sub_dir_path)\n",
        "      print(f\"{sub_dir_path} git pull\")\n",
        "      os.system(\"git pull\")\n",
        "clear_output()\n",
        "inf('\\u2714 Done','success', '50px')"
      ],
      "metadata": {
        "id": "_zspviwWiNfb",
        "colab": {
          "base_uri": "https://localhost:8080/",
          "height": 49,
          "referenced_widgets": [
            "d979394f825f4232a7dda83e15344781",
            "5c7b402684a249338f2f4ff9c4c338b5",
            "285664f49184426390b710ecd6fdceb0"
          ]
        },
        "outputId": "3259d5ce-ae0a-4291-8d66-3ecce58a2e6f"
      },
      "execution_count": null,
      "outputs": [
        {
          "output_type": "display_data",
          "data": {
            "text/plain": [
              "Button(button_style='success', description='✔ Done', disabled=True, layout=Layout(min_width='50px'), style=But…"
            ],
            "application/vnd.jupyter.widget-view+json": {
              "version_major": 2,
              "version_minor": 0,
              "model_id": "d979394f825f4232a7dda83e15344781"
            }
          },
          "metadata": {}
        }
      ]
    },
    {
      "cell_type": "markdown",
      "source": [],
      "metadata": {
        "id": "N36I9Z7ty1VB"
      }
    },
    {
      "cell_type": "markdown",
      "source": [
        "### 模型下载/model download"
      ],
      "metadata": {
        "id": "CcaNmIvUzp4p"
      }
    },
    {
      "cell_type": "code",
      "source": [
        "# Stable-diffusion\n",
        "model_download_url = \"https://huggingface.co/advokat/2dn/resolve/main/2DN-pruned-vae.ckpt\" #@param {type:\"string\"}\n",
        "%cd {project_path}/models/Stable-diffusion\n",
        "!wget {model_download_url}"
      ],
      "metadata": {
        "colab": {
          "base_uri": "https://localhost:8080/",
          "height": 49,
          "referenced_widgets": [
            "a50182baa3674442aad36622a974618e",
            "bdc14dcde0c74b1182e00d0ec0fc8f74",
            "c0bc93e9b54c43749bf93025d51c1bf6"
          ]
        },
        "id": "a4zPKYUJzz1g",
        "outputId": "295c26ec-44a7-49ec-d632-2963f6c208a4"
      },
      "execution_count": null,
      "outputs": [
        {
          "output_type": "display_data",
          "data": {
            "text/plain": [
              "Button(button_style='success', description='✔ Model downloaded, using the trained model.', disabled=True, layo…"
            ],
            "application/vnd.jupyter.widget-view+json": {
              "version_major": 2,
              "version_minor": 0,
              "model_id": "a50182baa3674442aad36622a974618e"
            }
          },
          "metadata": {}
        }
      ]
    },
    {
      "cell_type": "code",
      "source": [
        "!pip list|grep transformers"
      ],
      "metadata": {
        "colab": {
          "base_uri": "https://localhost:8080/"
        },
        "id": "xe6yd1e4pUCT",
        "outputId": "0bb8c384-1bef-4a28-aa99-b1b120aa9054"
      },
      "execution_count": null,
      "outputs": [
        {
          "output_type": "stream",
          "name": "stdout",
          "text": [
            "transformers                  4.25.1\n"
          ]
        }
      ]
    },
    {
      "cell_type": "code",
      "source": [
        "from transformers import CLIPVisionModelWithProjection"
      ],
      "metadata": {
        "colab": {
          "base_uri": "https://localhost:8080/",
          "height": 325
        },
        "id": "LDyuDd4LqbFL",
        "outputId": "3a9ca82b-1b2b-48cf-dc15-6ee1b27246a8"
      },
      "execution_count": null,
      "outputs": [
        {
          "output_type": "error",
          "ename": "ImportError",
          "evalue": "ignored",
          "traceback": [
            "\u001b[0;31m---------------------------------------------------------------------------\u001b[0m",
            "\u001b[0;31mImportError\u001b[0m                               Traceback (most recent call last)",
            "\u001b[0;32m<ipython-input-41-c9a7be8686f5>\u001b[0m in \u001b[0;36m<module>\u001b[0;34m\u001b[0m\n\u001b[0;32m----> 1\u001b[0;31m \u001b[0;32mfrom\u001b[0m \u001b[0mtransformers\u001b[0m \u001b[0;32mimport\u001b[0m \u001b[0mCLIPVisionModelWithProjection\u001b[0m\u001b[0;34m\u001b[0m\u001b[0;34m\u001b[0m\u001b[0m\n\u001b[0m",
            "\u001b[0;31mImportError\u001b[0m: cannot import name 'CLIPVisionModelWithProjection' from 'transformers' (/usr/local/lib/python3.8/dist-packages/transformers/__init__.py)",
            "",
            "\u001b[0;31m---------------------------------------------------------------------------\u001b[0;32m\nNOTE: If your import is failing due to a missing package, you can\nmanually install dependencies using either !pip or !apt.\n\nTo view examples of installing some common dependencies, click the\n\"Open Examples\" button below.\n\u001b[0;31m---------------------------------------------------------------------------\u001b[0m\n"
          ],
          "errorDetails": {
            "actions": [
              {
                "action": "open_url",
                "actionText": "Open Examples",
                "url": "/notebooks/snippets/importing_libraries.ipynb"
              }
            ]
          }
        }
      ]
    },
    {
      "cell_type": "markdown",
      "source": [
        "### 运行/run"
      ],
      "metadata": {
        "id": "fLtn37OWy2XB"
      }
    },
    {
      "cell_type": "code",
      "source": [
        "project_path = \"/content/gdrive/MyDrive/sd/stable-diffusion-webui\"\n",
        "with capture.capture_output() as cap:\n",
        "  %cd {project_path}/modules/\n",
        "  !wget -O paths.py https://raw.githubusercontent.com/TheLastBen/fast-stable-diffusion/main/AUTOMATIC1111_files/paths.py\n",
        "  !wget -O extras.py https://raw.githubusercontent.com/AUTOMATIC1111/stable-diffusion-webui/master/modules/extras.py\n",
        "  !wget -O sd_models.py https://raw.githubusercontent.com/AUTOMATIC1111/stable-diffusion-webui/master/modules/sd_models.py\n",
        "  !wget -q -O /usr/local/lib/python3.8/dist-packages/gradio/blocks.py https://raw.githubusercontent.com/TheLastBen/fast-stable-diffusion/main/AUTOMATIC1111_files/blocks.py\n",
        "  %cd {project_path}\n",
        "\n",
        "  !sed -i \"s@os.path.splitext(checkpoint_file)@os.path.splitext(checkpoint_file); map_location='cuda'@\" {project_path}/modules/sd_models.py\n",
        "  !sed -i 's@ui.create_ui().*@ui.create_ui();shared.demo.queue(concurrency_count=999999,status_update_rate=0.1)@' {project_path}/webui.py\n",
        "  !sed -i \"s@map_location='cpu'@map_location='cuda'@\" {project_path}/modules/extras.py\n",
        "\n",
        "%cd {project_path}\n",
        "!python webui.py --share --api --disable-safe-unpickle --enable-insecure-extension-access --no-half-vae --xformers --disable-console-progressbars"
      ],
      "metadata": {
        "colab": {
          "base_uri": "https://localhost:8080/"
        },
        "id": "paBH0qITy9_I",
        "outputId": "ed55bb0e-f576-4695-cabd-e197ca571828"
      },
      "execution_count": null,
      "outputs": [
        {
          "output_type": "stream",
          "name": "stdout",
          "text": [
            "/content/gdrive/MyDrive/sd/stable-diffusion-webui\n",
            "Loading weights [19b509d939] from /content/gdrive/MyDrive/sd/stable-diffusion-webui/models/Stable-diffusion/model.ckpt\n",
            "Creating model from config: /content/gdrive/MyDrive/sd/stable-diffusion-webui/configs/v1-inference.yaml\n",
            "LatentDiffusion: Running in eps-prediction mode\n",
            "DiffusionWrapper has 859.52 M params.\n",
            "Failed to create model quickly; will retry using slow method.\n",
            "LatentDiffusion: Running in eps-prediction mode\n",
            "DiffusionWrapper has 859.52 M params.\n",
            "loading stable diffusion model: FileNotFoundError\n",
            "Traceback (most recent call last):\n",
            "  File \"webui.py\", line 111, in initialize\n",
            "    modules.sd_models.load_model()\n",
            "  File \"/content/gdrive/MyDrive/sd/stable-diffusion-webui/modules/sd_models.py\", line 400, in load_model\n",
            "    sd_model = instantiate_from_config(sd_config.model)\n",
            "  File \"/content/gdrive/MyDrive/sd/stablediffusion/ldm/util.py\", line 79, in instantiate_from_config\n",
            "    return get_obj_from_str(config[\"target\"])(**config.get(\"params\", dict()))\n",
            "  File \"/content/gdrive/MyDrive/sd/stablediffusion/ldm/models/diffusion/ddpm.py\", line 563, in __init__\n",
            "    self.instantiate_cond_stage(cond_stage_config)\n",
            "  File \"/content/gdrive/MyDrive/sd/stablediffusion/ldm/models/diffusion/ddpm.py\", line 630, in instantiate_cond_stage\n",
            "    model = instantiate_from_config(config)\n",
            "  File \"/content/gdrive/MyDrive/sd/stablediffusion/ldm/util.py\", line 79, in instantiate_from_config\n",
            "    return get_obj_from_str(config[\"target\"])(**config.get(\"params\", dict()))\n",
            "  File \"/content/gdrive/MyDrive/sd/stablediffusion/ldm/modules/encoders/modules.py\", line 99, in __init__\n",
            "    self.tokenizer = CLIPTokenizer.from_pretrained(version)\n",
            "  File \"/usr/local/lib/python3.8/dist-packages/transformers/tokenization_utils_base.py\", line 1759, in from_pretrained\n",
            "    raise error\n",
            "  File \"/usr/local/lib/python3.8/dist-packages/transformers/tokenization_utils_base.py\", line 1744, in from_pretrained\n",
            "    resolved_vocab_files[file_id] = cached_path(\n",
            "  File \"/usr/local/lib/python3.8/dist-packages/transformers/utils/hub.py\", line 284, in cached_path\n",
            "    output_path = get_from_cache(\n",
            "  File \"/usr/local/lib/python3.8/dist-packages/transformers/utils/hub.py\", line 486, in get_from_cache\n",
            "    os.makedirs(cache_dir, exist_ok=True)\n",
            "  File \"/usr/lib/python3.8/os.py\", line 223, in makedirs\n",
            "    mkdir(name, mode)\n",
            "FileNotFoundError: [Errno 2] No such file or directory: '/root/.cache/huggingface/transformers'\n",
            "\n",
            "\n",
            "Stable diffusion model failed to load, exiting\n"
          ]
        }
      ]
    }
  ]
}